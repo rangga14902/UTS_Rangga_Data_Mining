{
  "nbformat": 4,
  "nbformat_minor": 0,
  "metadata": {
    "colab": {
      "provenance": []
    },
    "kernelspec": {
      "name": "python3",
      "display_name": "Python 3"
    },
    "language_info": {
      "name": "python"
    }
  },
  "cells": [
    {
      "cell_type": "code",
      "execution_count": 1,
      "metadata": {
        "colab": {
          "base_uri": "https://localhost:8080/",
          "height": 0
        },
        "id": "oA7SX2wEUBrX",
        "outputId": "82bc4ff6-1332-495a-f923-1a04f73e4104"
      },
      "outputs": [
        {
          "output_type": "stream",
          "name": "stdout",
          "text": [
            "Dimensi Data Training: (120, 4)\n",
            "Dimensi Data Testing: (30, 4)\n"
          ]
        }
      ],
      "source": [
        "# Import library yang diperlukan\n",
        "from sklearn import datasets\n",
        "from sklearn.model_selection import train_test_split\n",
        "\n",
        "# Load dataset Iris\n",
        "iris = datasets.load_iris()\n",
        "X = iris.data\n",
        "y = iris.target\n",
        "\n",
        "# Pisahkan data menjadi data training dan testing (80:20)\n",
        "X_train, X_test, y_train, y_test = train_test_split(X, y, test_size=0.2, random_state=42)\n",
        "\n",
        "# Cek dimensi data training dan testing\n",
        "print(\"Dimensi Data Training:\", X_train.shape)\n",
        "print(\"Dimensi Data Testing:\", X_test.shape)\n"
      ]
    },
    {
      "cell_type": "code",
      "source": [
        "from sklearn.neighbors import KNeighborsClassifier\n",
        "from sklearn.metrics import accuracy_score\n",
        "\n",
        "# Latih model K-NN dengan k=3\n",
        "knn_model = KNeighborsClassifier(n_neighbors=3)\n",
        "knn_model.fit(X_train, y_train)\n",
        "\n",
        "# Lakukan prediksi terhadap data testing\n",
        "y_pred_knn = knn_model.predict(X_test)\n",
        "\n",
        "# Hitung akurasi model K-NN\n",
        "akurasi_knn = accuracy_score(y_test, y_pred_knn)\n",
        "print(\"Tingkat Akurasi Model K-NN: %d persen\" % (akurasi_knn * 100))\n"
      ],
      "metadata": {
        "colab": {
          "base_uri": "https://localhost:8080/",
          "height": 0
        },
        "id": "plpHMJH5VzZo",
        "outputId": "694cafda-ee8f-4049-c051-1d6c52fb9b85"
      },
      "execution_count": 2,
      "outputs": [
        {
          "output_type": "stream",
          "name": "stdout",
          "text": [
            "Tingkat Akurasi Model K-NN: 100 persen\n"
          ]
        }
      ]
    },
    {
      "cell_type": "code",
      "source": [
        "from sklearn.naive_bayes import GaussianNB\n",
        "from sklearn.metrics import accuracy_score\n",
        "\n",
        "# Latih model Naive Bayes\n",
        "nb_model = GaussianNB()\n",
        "nb_model.fit(X_train, y_train)\n",
        "\n",
        "# Lakukan prediksi terhadap data testing\n",
        "y_pred_nb = nb_model.predict(X_test)\n",
        "\n",
        "# Hitung akurasi model Naive Bayes\n",
        "akurasi_nb = accuracy_score(y_test, y_pred_nb)\n",
        "print(\"Tingkat Akurasi Model Naive Bayes: %d persen\" % (akurasi_nb * 100))\n"
      ],
      "metadata": {
        "colab": {
          "base_uri": "https://localhost:8080/",
          "height": 0
        },
        "id": "AyERGItbWJNX",
        "outputId": "efd8737d-d510-48a9-dbb1-3293a4071454"
      },
      "execution_count": 3,
      "outputs": [
        {
          "output_type": "stream",
          "name": "stdout",
          "text": [
            "Tingkat Akurasi Model Naive Bayes: 100 persen\n"
          ]
        }
      ]
    },
    {
      "cell_type": "code",
      "source": [
        "from sklearn.tree import DecisionTreeClassifier\n",
        "from sklearn.metrics import accuracy_score\n",
        "\n",
        "# Latih model C4.5\n",
        "c45_model = DecisionTreeClassifier()\n",
        "c45_model.fit(X_train, y_train)\n",
        "\n",
        "# Lakukan prediksi terhadap data testing\n",
        "y_pred_c45 = c45_model.predict(X_test)\n",
        "\n",
        "# Hitung akurasi model C4.5\n",
        "akurasi_c45 = accuracy_score(y_test, y_pred_c45)\n",
        "print(\"Tingkat Akurasi Model C4.5: %d persen\" % (akurasi_c45 * 100))\n"
      ],
      "metadata": {
        "colab": {
          "base_uri": "https://localhost:8080/",
          "height": 0
        },
        "id": "DeeKe1TPWtyG",
        "outputId": "8e8c9ee7-6686-46c7-c72f-f98b2d17bb2a"
      },
      "execution_count": 4,
      "outputs": [
        {
          "output_type": "stream",
          "name": "stdout",
          "text": [
            "Tingkat Akurasi Model C4.5: 100 persen\n"
          ]
        }
      ]
    },
    {
      "cell_type": "code",
      "source": [
        "from sklearn.neighbors import KNeighborsClassifier\n",
        "from sklearn.tree import DecisionTreeClassifier\n",
        "from sklearn.naive_bayes import GaussianNB\n",
        "from sklearn.metrics import accuracy_score\n",
        "\n",
        "# Latih model K-NN dengan k=3\n",
        "knn_model = KNeighborsClassifier(n_neighbors=3)\n",
        "knn_model.fit(X_train, y_train)\n",
        "\n",
        "# Lakukan prediksi terhadap data testing untuk K-NN\n",
        "y_pred_knn = knn_model.predict(X_test)\n",
        "akurasi_knn = accuracy_score(y_test, y_pred_knn)\n",
        "\n",
        "# Latih model Naive Bayes\n",
        "nb_model = GaussianNB()\n",
        "nb_model.fit(X_train, y_train)\n",
        "\n",
        "# Lakukan prediksi terhadap data testing untuk Naive Bayes\n",
        "y_pred_nb = nb_model.predict(X_test)\n",
        "akurasi_nb = accuracy_score(y_test, y_pred_nb)\n",
        "\n",
        "# Latih model C4.5\n",
        "c45_model = DecisionTreeClassifier()\n",
        "c45_model.fit(X_train, y_train)\n",
        "\n",
        "# Lakukan prediksi terhadap data testing untuk C4.5\n",
        "y_pred_c45 = c45_model.predict(X_test)\n",
        "akurasi_c45 = accuracy_score(y_test, y_pred_c45)\n",
        "\n",
        "# Bandingkan akurasi ketiga model\n",
        "print(\"Akurasi Model K-NN: %d persen\" % (akurasi_knn * 100))\n",
        "print(\"Akurasi Model Naive Bayes: %d persen\" % (akurasi_nb * 100))\n",
        "print(\"Akurasi Model C4.5: %d persen\" % (akurasi_c45 * 100))\n"
      ],
      "metadata": {
        "colab": {
          "base_uri": "https://localhost:8080/",
          "height": 0
        },
        "id": "5ZQjvM_bW2gi",
        "outputId": "47b896f3-7d13-45bb-f646-5668e2800ed8"
      },
      "execution_count": 5,
      "outputs": [
        {
          "output_type": "stream",
          "name": "stdout",
          "text": [
            "Akurasi Model K-NN: 100 persen\n",
            "Akurasi Model Naive Bayes: 100 persen\n",
            "Akurasi Model C4.5: 100 persen\n"
          ]
        }
      ]
    }
  ]
}